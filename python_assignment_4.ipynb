{
 "cells": [
  {
   "cell_type": "markdown",
   "metadata": {},
   "source": [
    "### Question 1.1: Write a Python Program(with class concepts) to find the area of the triangle using the below formula.\n",
    "    area = (s*(s-a)*(s-b)*(s-c)) ** 0.5\n",
    "### Function to take the length of the sides of triangle from user should be defined in the parent class and function to calculate the area should be defined in subclass."
   ]
  },
  {
   "cell_type": "code",
   "execution_count": 5,
   "metadata": {},
   "outputs": [
    {
     "name": "stdout",
     "output_type": "stream",
     "text": [
      "Sides of triangle:  2 3 4\n",
      "Area of triangle:  2.9047375096555625\n",
      "\n",
      "--------------------------------------------------------------------------------\n"
     ]
    }
   ],
   "source": [
    "class triangle:\n",
    "    def __init__(self, side1, side2, side3):\n",
    "        self.side1=side1\n",
    "        self.side2=side2\n",
    "        self.side3=side3\n",
    "        print('Sides of triangle: ',side1,side2,side3)\n",
    "        \n",
    "class area_of_triangle(triangle):\n",
    "    \n",
    "    def __init__(self,side1,side2,side3):\n",
    "        super(area_of_triangle, self).__init__(side1,side2,side3)\n",
    "    \n",
    "    def find_area(self):\n",
    "        s = (self.side1 + self.side2 + self.side3)/2\n",
    "        area = (s*(s-self.side1)*(s-self.side2)*(s-self.side3))**0.5\n",
    "        return area\n",
    "        \n",
    "obj = area_of_triangle(2,3,4)\n",
    "print('Area of triangle: ',obj.find_area())\n",
    "print()\n",
    "print('-'*80)"
   ]
  },
  {
   "cell_type": "markdown",
   "metadata": {},
   "source": [
    "### Question 1.2 : Write a function filter_long_words() that takes a list of words and an integer n and returns the list of words that are longer than n."
   ]
  },
  {
   "cell_type": "code",
   "execution_count": 6,
   "metadata": {},
   "outputs": [
    {
     "name": "stdout",
     "output_type": "stream",
     "text": [
      "Enter words: mmmm th jjj ttt sssssk \n",
      "Enter length to which want longer words list4\n",
      "list of long words:  ['sssssk']\n",
      "\n",
      "--------------------------------------------------------------------------------\n"
     ]
    }
   ],
   "source": [
    "def  filter_long_words(n,lst):\n",
    "    long_words=[]\n",
    "    for c in lst:\n",
    "        if len(c)>n:\n",
    "            long_words.append(c)\n",
    "    return long_words\n",
    "\n",
    "wordsLst =list(input('Enter words: ').split(' '))\n",
    "length = int(input('Enter length to which want longer words list'))\n",
    "print('list of long words: ', filter_long_words(length,wordsLst))\n",
    "print()\n",
    "print('-'*80)"
   ]
  },
  {
   "cell_type": "markdown",
   "metadata": {},
   "source": [
    "### Question 2.1 : Write a Python program using function concept that maps list of words into a list of integers representing the lengths of the corresponding words.\n",
    "    Hint: If a list [ ab,cde,erty] is passed on to the python function output should come as [2,3,4] Here 2,3 and 4 are the lengths of the words in the list."
   ]
  },
  {
   "cell_type": "code",
   "execution_count": 8,
   "metadata": {},
   "outputs": [
    {
     "name": "stdout",
     "output_type": "stream",
     "text": [
      "Enter words: jjj\n",
      "List of length:  [3]\n",
      "\n",
      "--------------------------------------------------------------------------------\n"
     ]
    }
   ],
   "source": [
    "def lst_length_words(lst):\n",
    "    lstLength=[]\n",
    "    for i in lst:\n",
    "        lstLength.append(len(i))\n",
    "    return lstLength\n",
    "        \n",
    "wordsLst =list(input('Enter words: ').split(' '))\n",
    "print('List of length: ',lst_length_words(wordsLst))\n",
    "print()\n",
    "print('-'*80)"
   ]
  },
  {
   "cell_type": "markdown",
   "metadata": {},
   "source": [
    "### Question 2.2: Write a Python function which takes a character (i.e. a string of length 1) and returns True if it is a vowel, False otherwise."
   ]
  },
  {
   "cell_type": "code",
   "execution_count": null,
   "metadata": {},
   "outputs": [],
   "source": [
    "def isvowel(ch):\n",
    "    if ch in ['a','e','i','o','u','A','E','I','O','U']:\n",
    "        return True\n",
    "    else:\n",
    "        return False\n",
    "character = input('Enter a character')\n",
    "print('Enter character is vowel: ', isvowel(character))"
   ]
  },
  {
   "cell_type": "code",
   "execution_count": null,
   "metadata": {},
   "outputs": [],
   "source": []
  },
  {
   "cell_type": "code",
   "execution_count": null,
   "metadata": {},
   "outputs": [],
   "source": []
  }
 ],
 "metadata": {
  "kernelspec": {
   "display_name": "Python 3",
   "language": "python",
   "name": "python3"
  },
  "language_info": {
   "codemirror_mode": {
    "name": "ipython",
    "version": 3
   },
   "file_extension": ".py",
   "mimetype": "text/x-python",
   "name": "python",
   "nbconvert_exporter": "python",
   "pygments_lexer": "ipython3",
   "version": "3.7.4"
  }
 },
 "nbformat": 4,
 "nbformat_minor": 2
}
